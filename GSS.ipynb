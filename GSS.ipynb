{
  "nbformat": 4,
  "nbformat_minor": 0,
  "metadata": {
    "colab": {
      "provenance": []
    },
    "kernelspec": {
      "name": "python3",
      "display_name": "Python 3"
    },
    "language_info": {
      "name": "python"
    }
  },
  "cells": [
    {
      "cell_type": "code",
      "execution_count": 1,
      "metadata": {
        "colab": {
          "base_uri": "https://localhost:8080/"
        },
        "id": "4HAJ8tqhNXgK",
        "outputId": "c30c0f58-3b72-45dc-b118-f32ae704bc4c"
      },
      "outputs": [
        {
          "output_type": "stream",
          "name": "stdout",
          "text": [
            "Jumlah iterasi: 28\n",
            "Nilai minimum dengan metode GSS: 0.9999991303221027\n"
          ]
        }
      ],
      "source": [
        "import math\n",
        "\n",
        "def f(x):\n",
        "    return (x-1)**2\n",
        "\n",
        "def golden_section_search(f, a, b, eps):\n",
        "    phi = (1 + math.sqrt(5)) / 2\n",
        "    L = b - a\n",
        "    c = b - L / phi\n",
        "    d = a + L / phi\n",
        "    iterasi = 0\n",
        "    while abs(c - d) > eps:\n",
        "        if f(c) < f(d):\n",
        "            b = d\n",
        "        else:\n",
        "            a = c\n",
        "        L = b - a\n",
        "        c = b - L / phi\n",
        "        d = a + L / phi\n",
        "        iterasi += 1\n",
        "    print(\"Jumlah iterasi:\", iterasi)\n",
        "    return (b + a) / 2\n",
        "\n",
        "a = 0\n",
        "b = 2\n",
        "eps = 1e-6\n",
        "\n",
        "minimum = golden_section_search(f, a, b, eps)\n",
        "print(\"Nilai minimum dengan metode GSS:\", minimum)\n"
      ]
    },
    {
      "cell_type": "code",
      "source": [],
      "metadata": {
        "id": "DlaZecZ0N_s5"
      },
      "execution_count": null,
      "outputs": []
    }
  ]
}